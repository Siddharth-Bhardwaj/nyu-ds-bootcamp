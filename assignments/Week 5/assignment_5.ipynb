{
 "cells": [
  {
   "cell_type": "code",
   "execution_count": null,
   "metadata": {},
   "outputs": [],
   "source": [
    "1. \n",
    "Statistical significance is assessed by:\n",
    "\n",
    "Formulating hypotheses.\n",
    "Choosing a significance level (alpha).\n",
    "Collecting data.\n",
    "Applying a suitable statistical test.\n",
    "Calculating p-value.\n",
    "If p-value < alpha, it's significant.\n",
    "\n",
    "2.\n",
    "CLT states that the sampling distribution of the sample mean approaches a normal distribution as the sample size increases, regardless of the shape of the population distribution.\n",
    "It is important because it provides a bridge between the sample and population.\n",
    "\n",
    "3.\n",
    "Statistical power is the probability of correctly rejecting a null hypothesis when it is false.\n",
    "\n",
    "4.\n",
    "We can control for biases by implementing strategies to minimize common biases, such as selection bias and peer review.\n",
    "\n",
    "5.\n",
    "Confounding variables are variables that are related to both the hypothesis and the outcome in a scientific experiment.\n",
    "\n",
    "6.\n",
    "A/B testing involves splitting a group of users into two or more groups and exposing each group to different variations of the content, such as a new webpage design or a different marketing message. \n",
    "\n",
    "7.\n",
    "Confidence intervals are a range of values that provide a plausible range for an unknown population parameter, such as a mean or proportion. They are typically constructed around a sample statistic, such as the sample mean, and provide a level of confidence (e.g., 95%) that the true parameter falls within that interval. "
   ]
  }
 ],
 "metadata": {
  "language_info": {
   "name": "python"
  }
 },
 "nbformat": 4,
 "nbformat_minor": 2
}
